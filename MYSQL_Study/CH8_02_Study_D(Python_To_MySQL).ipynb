{
 "cells": [
  {
   "cell_type": "code",
   "execution_count": 1,
   "id": "bb4c9a95",
   "metadata": {},
   "outputs": [],
   "source": [
    "import pymysql"
   ]
  },
  {
   "cell_type": "code",
   "execution_count": 5,
   "id": "4d3221ee",
   "metadata": {},
   "outputs": [],
   "source": [
    "conn = pymysql.connect(host='127.0.0.1', user='root', password='00000000',\n",
    "                      db='soloDB', charset='utf8')"
   ]
  },
  {
   "cell_type": "code",
   "execution_count": 6,
   "id": "dd1a1553",
   "metadata": {},
   "outputs": [],
   "source": [
    "cur = conn.cursor()"
   ]
  },
  {
   "cell_type": "code",
   "execution_count": 7,
   "id": "ae8124e2",
   "metadata": {},
   "outputs": [
    {
     "data": {
      "text/plain": [
       "0"
      ]
     },
     "execution_count": 7,
     "metadata": {},
     "output_type": "execute_result"
    }
   ],
   "source": [
    "cur.execute(\"create table userTable (id char(4), userName char(15), email char(20), birthYear int)\")"
   ]
  },
  {
   "cell_type": "code",
   "execution_count": 8,
   "id": "a805f9c3",
   "metadata": {},
   "outputs": [
    {
     "data": {
      "text/plain": [
       "1"
      ]
     },
     "execution_count": 8,
     "metadata": {},
     "output_type": "execute_result"
    }
   ],
   "source": [
    "cur.execute(\"insert into userTable values ('hong', '홍지윤', 'hong@naver.com', 1996)\")\n",
    "cur.execute(\"insert into userTable values ('kim', '김태연', 'kim@daum.com', 2011)\")\n",
    "cur.execute(\"insert into userTable values ('star', '별사랑', 'star@paran.com', 1990)\")\n",
    "cur.execute(\"insert into userTable values ('yang', '양지은', 'yang@gmail.com', 1993)\")"
   ]
  },
  {
   "cell_type": "code",
   "execution_count": 10,
   "id": "d6502957",
   "metadata": {},
   "outputs": [],
   "source": [
    "conn.commit()"
   ]
  },
  {
   "cell_type": "code",
   "execution_count": 11,
   "id": "62c0bde5",
   "metadata": {},
   "outputs": [],
   "source": [
    "conn.close()"
   ]
  },
  {
   "cell_type": "code",
   "execution_count": 16,
   "id": "f16dbcd9",
   "metadata": {},
   "outputs": [
    {
     "name": "stdout",
     "output_type": "stream",
     "text": [
      "사용자 ID ==> su\n",
      "사용자 이름 ==> 수지\n",
      "사용자 이메일 ==> suji@hanbit.com\n",
      "사용자 출생연도 ==> 1994\n",
      "사용자 ID ==> \n"
     ]
    }
   ],
   "source": [
    "import pymysql\n",
    "\n",
    "# 전역변수 선언부\n",
    "conn, cur = None, None\n",
    "data1, data2, data3, data4 = '', '', '', ''\n",
    "sql = ''\n",
    "\n",
    "# 메인 코드\n",
    "conn = pymysql.connect(host='127.0.0.1', user='root', password='00000000',\n",
    "                      db = 'soloDB', charset='utf8')\n",
    "cur = conn.cursor()\n",
    "\n",
    "while (True) :\n",
    "    data1 = input('사용자 ID ==> ')\n",
    "    if data1 == '':\n",
    "        break;\n",
    "    data2 = input('사용자 이름 ==> ')\n",
    "    data3 = input('사용자 이메일 ==> ')\n",
    "    data4 = input('사용자 출생연도 ==> ')\n",
    "    sql = \"insert into userTable values('\" + data1 + \"', '\" + data2 + \"', '\" + data3 + \"', \" + data4 + \")\"\n",
    "    cur.execute(sql)\n",
    "    \n",
    "conn.commit()\n",
    "conn.close()"
   ]
  },
  {
   "cell_type": "code",
   "execution_count": 17,
   "id": "3256cb36",
   "metadata": {},
   "outputs": [
    {
     "name": "stdout",
     "output_type": "stream",
     "text": [
      "사용자ID  사용자이름  이메일  출생연도\n",
      "------------------------------\n",
      " hong              홍지윤        hong@naver.com  1996\n",
      "  kim              김태연          kim@daum.com  2011\n",
      " star              별사랑        star@paran.com  1990\n",
      " yang              양지은        yang@gmail.com  1993\n",
      "   su               수지       suji@hanbit.com  1994\n"
     ]
    }
   ],
   "source": [
    "import pymysql\n",
    "\n",
    "# 전역변수 선언부\n",
    "conn, cur = None, None\n",
    "data1, data2, data3, data4 = '', '', '', ''\n",
    "row = None\n",
    "\n",
    "# 메인 코드\n",
    "conn = pymysql.connect(host='127.0.0.1', user='root', password='00000000',\n",
    "                      db = 'soloDB', charset='utf8')\n",
    "cur = conn.cursor()\n",
    "\n",
    "cur.execute(\"select * from userTable\")\n",
    "\n",
    "print('사용자ID  사용자이름  이메일  출생연도')\n",
    "print('------------------------------')\n",
    "\n",
    "while (True):\n",
    "    row = cur.fetchone()\n",
    "    if row == None:\n",
    "        break\n",
    "    data1 = row[0]\n",
    "    data2 = row[1]\n",
    "    data3 = row[2]\n",
    "    data4 = row[3]\n",
    "    print(\"%5s  %15s  %20s  %d\" % (data1, data2, data3, data4))\n",
    "    \n",
    "conn.close()"
   ]
  }
 ],
 "metadata": {
  "kernelspec": {
   "display_name": "Python 3 (ipykernel)",
   "language": "python",
   "name": "python3"
  },
  "language_info": {
   "codemirror_mode": {
    "name": "ipython",
    "version": 3
   },
   "file_extension": ".py",
   "mimetype": "text/x-python",
   "name": "python",
   "nbconvert_exporter": "python",
   "pygments_lexer": "ipython3",
   "version": "3.9.13"
  }
 },
 "nbformat": 4,
 "nbformat_minor": 5
}

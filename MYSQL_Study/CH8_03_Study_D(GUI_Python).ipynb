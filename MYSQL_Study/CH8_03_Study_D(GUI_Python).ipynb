{
 "cells": [
  {
   "cell_type": "code",
   "execution_count": 2,
   "id": "6cce33bc",
   "metadata": {},
   "outputs": [],
   "source": [
    "from tkinter import *"
   ]
  },
  {
   "cell_type": "code",
   "execution_count": 3,
   "id": "d960d9e9",
   "metadata": {},
   "outputs": [],
   "source": [
    "root = Tk()\n",
    "\n",
    "# 앞으로 이 부분에서 코딩을 추가해서 화면을 구성하고 처리합니다.\n",
    "\n",
    "root.mainloop()"
   ]
  },
  {
   "cell_type": "code",
   "execution_count": 4,
   "id": "fc07e2c7",
   "metadata": {},
   "outputs": [],
   "source": [
    "from tkinter import *\n",
    "\n",
    "root = Tk()\n",
    "root.title('혼공 GUI 연습')\n",
    "root.geometry('400x200')\n",
    "\n",
    "root.mainloop()"
   ]
  },
  {
   "cell_type": "code",
   "execution_count": 4,
   "id": "e4dac1a4",
   "metadata": {},
   "outputs": [],
   "source": [
    "from tkinter import *\n",
    "\n",
    "root = Tk()\n",
    "root.geometry('300x100')\n",
    "\n",
    "label1 = Label(root, text='혼공 SQL은')\n",
    "label2 = Label(root, text='쉽습니다.', font=('궁서체', 30), bg='blue', fg='yellow')\n",
    "\n",
    "\n",
    "label1.pack()\n",
    "label2.pack()\n",
    "\n",
    "root.mainloop()"
   ]
  },
  {
   "cell_type": "code",
   "execution_count": 6,
   "id": "3ada2a40",
   "metadata": {},
   "outputs": [
    {
     "name": "stderr",
     "output_type": "stream",
     "text": [
      "2023-03-14 13:41:46.888 python[1933:93399] Warning: Expected min height of view: (<NSButton: 0x7fc7f6ac7830>) to be less than or equal to 30 but got a height of 32.000000. This error will be logged once per view in violation.\n"
     ]
    }
   ],
   "source": [
    "from tkinter import *\n",
    "from tkinter import messagebox\n",
    "\n",
    "def clickButton() :\n",
    "    messagebox.showinfo('버튼 클릭', '버튼을 눌렀습니다..')\n",
    "    \n",
    "root = Tk()\n",
    "root.geometry('200x200')\n",
    "\n",
    "button1 = Button(root, text='여기를 클릭하세요', fg='red', bg='yellow', command=clickButton)\n",
    "button1.pack(expand=1)\n",
    "\n",
    "root.mainloop()"
   ]
  },
  {
   "cell_type": "code",
   "execution_count": 7,
   "id": "e8911011",
   "metadata": {},
   "outputs": [
    {
     "ename": "TclError",
     "evalue": "can't invoke \"button\" command: application has been destroyed",
     "output_type": "error",
     "traceback": [
      "\u001b[0;31m---------------------------------------------------------------------------\u001b[0m",
      "\u001b[0;31mTclError\u001b[0m                                  Traceback (most recent call last)",
      "\u001b[0;32m/var/folders/_f/rcz07g5168b6s3n3332v_vsr0000gn/T/ipykernel_1933/3117448398.py\u001b[0m in \u001b[0;36m<module>\u001b[0;34m\u001b[0m\n\u001b[1;32m      3\u001b[0m \u001b[0mrook\u001b[0m \u001b[0;34m=\u001b[0m \u001b[0mTk\u001b[0m\u001b[0;34m(\u001b[0m\u001b[0;34m)\u001b[0m\u001b[0;34m\u001b[0m\u001b[0;34m\u001b[0m\u001b[0m\n\u001b[1;32m      4\u001b[0m \u001b[0;34m\u001b[0m\u001b[0m\n\u001b[0;32m----> 5\u001b[0;31m \u001b[0mbutton1\u001b[0m \u001b[0;34m=\u001b[0m \u001b[0mButton\u001b[0m\u001b[0;34m(\u001b[0m\u001b[0mroot\u001b[0m\u001b[0;34m,\u001b[0m \u001b[0mtext\u001b[0m\u001b[0;34m=\u001b[0m\u001b[0;34m'혼공1'\u001b[0m\u001b[0;34m)\u001b[0m\u001b[0;34m\u001b[0m\u001b[0;34m\u001b[0m\u001b[0m\n\u001b[0m\u001b[1;32m      6\u001b[0m \u001b[0mbutton2\u001b[0m \u001b[0;34m=\u001b[0m \u001b[0mButton\u001b[0m\u001b[0;34m(\u001b[0m\u001b[0mroot\u001b[0m\u001b[0;34m,\u001b[0m \u001b[0mtext\u001b[0m\u001b[0;34m=\u001b[0m\u001b[0;34m'혼공2'\u001b[0m\u001b[0;34m)\u001b[0m\u001b[0;34m\u001b[0m\u001b[0;34m\u001b[0m\u001b[0m\n\u001b[1;32m      7\u001b[0m \u001b[0mbutton3\u001b[0m \u001b[0;34m=\u001b[0m \u001b[0mButton\u001b[0m\u001b[0;34m(\u001b[0m\u001b[0mroot\u001b[0m\u001b[0;34m,\u001b[0m \u001b[0mtext\u001b[0m\u001b[0;34m=\u001b[0m\u001b[0;34m'혼공3'\u001b[0m\u001b[0;34m)\u001b[0m\u001b[0;34m\u001b[0m\u001b[0;34m\u001b[0m\u001b[0m\n",
      "\u001b[0;32m/opt/anaconda3/lib/python3.9/tkinter/__init__.py\u001b[0m in \u001b[0;36m__init__\u001b[0;34m(self, master, cnf, **kw)\u001b[0m\n\u001b[1;32m   2648\u001b[0m             \u001b[0moverrelief\u001b[0m\u001b[0;34m,\u001b[0m \u001b[0mstate\u001b[0m\u001b[0;34m,\u001b[0m \u001b[0mwidth\u001b[0m\u001b[0;34m\u001b[0m\u001b[0;34m\u001b[0m\u001b[0m\n\u001b[1;32m   2649\u001b[0m         \"\"\"\n\u001b[0;32m-> 2650\u001b[0;31m         \u001b[0mWidget\u001b[0m\u001b[0;34m.\u001b[0m\u001b[0m__init__\u001b[0m\u001b[0;34m(\u001b[0m\u001b[0mself\u001b[0m\u001b[0;34m,\u001b[0m \u001b[0mmaster\u001b[0m\u001b[0;34m,\u001b[0m \u001b[0;34m'button'\u001b[0m\u001b[0;34m,\u001b[0m \u001b[0mcnf\u001b[0m\u001b[0;34m,\u001b[0m \u001b[0mkw\u001b[0m\u001b[0;34m)\u001b[0m\u001b[0;34m\u001b[0m\u001b[0;34m\u001b[0m\u001b[0m\n\u001b[0m\u001b[1;32m   2651\u001b[0m \u001b[0;34m\u001b[0m\u001b[0m\n\u001b[1;32m   2652\u001b[0m     \u001b[0;32mdef\u001b[0m \u001b[0mflash\u001b[0m\u001b[0;34m(\u001b[0m\u001b[0mself\u001b[0m\u001b[0;34m)\u001b[0m\u001b[0;34m:\u001b[0m\u001b[0;34m\u001b[0m\u001b[0;34m\u001b[0m\u001b[0m\n",
      "\u001b[0;32m/opt/anaconda3/lib/python3.9/tkinter/__init__.py\u001b[0m in \u001b[0;36m__init__\u001b[0;34m(self, master, widgetName, cnf, kw, extra)\u001b[0m\n\u001b[1;32m   2570\u001b[0m         \u001b[0;32mfor\u001b[0m \u001b[0mk\u001b[0m\u001b[0;34m,\u001b[0m \u001b[0mv\u001b[0m \u001b[0;32min\u001b[0m \u001b[0mclasses\u001b[0m\u001b[0;34m:\u001b[0m\u001b[0;34m\u001b[0m\u001b[0;34m\u001b[0m\u001b[0m\n\u001b[1;32m   2571\u001b[0m             \u001b[0;32mdel\u001b[0m \u001b[0mcnf\u001b[0m\u001b[0;34m[\u001b[0m\u001b[0mk\u001b[0m\u001b[0;34m]\u001b[0m\u001b[0;34m\u001b[0m\u001b[0;34m\u001b[0m\u001b[0m\n\u001b[0;32m-> 2572\u001b[0;31m         self.tk.call(\n\u001b[0m\u001b[1;32m   2573\u001b[0m             (widgetName, self._w) + extra + self._options(cnf))\n\u001b[1;32m   2574\u001b[0m         \u001b[0;32mfor\u001b[0m \u001b[0mk\u001b[0m\u001b[0;34m,\u001b[0m \u001b[0mv\u001b[0m \u001b[0;32min\u001b[0m \u001b[0mclasses\u001b[0m\u001b[0;34m:\u001b[0m\u001b[0;34m\u001b[0m\u001b[0;34m\u001b[0m\u001b[0m\n",
      "\u001b[0;31mTclError\u001b[0m: can't invoke \"button\" command: application has been destroyed"
     ]
    }
   ],
   "source": [
    "from tkinter import *\n",
    "\n",
    "rook = Tk()\n",
    "\n",
    "button1 = Button(root, text='혼공1')\n",
    "button2 = Button(root, text='혼공2')\n",
    "button3 = Button(root, text='혼공3')\n",
    "\n",
    "button1.pack(side=LEFT)\n",
    "button2.pack(side=LEFT)\n",
    "button3.pack(side=LEFT)\n",
    "\n",
    "root.mainloop()"
   ]
  },
  {
   "cell_type": "code",
   "execution_count": 8,
   "id": "e5d80317",
   "metadata": {},
   "outputs": [
    {
     "ename": "TclError",
     "evalue": "can't invoke \"button\" command: application has been destroyed",
     "output_type": "error",
     "traceback": [
      "\u001b[0;31m---------------------------------------------------------------------------\u001b[0m",
      "\u001b[0;31mTclError\u001b[0m                                  Traceback (most recent call last)",
      "\u001b[0;32m/var/folders/_f/rcz07g5168b6s3n3332v_vsr0000gn/T/ipykernel_1933/3134995681.py\u001b[0m in \u001b[0;36m<module>\u001b[0;34m\u001b[0m\n\u001b[1;32m      3\u001b[0m \u001b[0mrook\u001b[0m \u001b[0;34m=\u001b[0m \u001b[0mTk\u001b[0m\u001b[0;34m(\u001b[0m\u001b[0;34m)\u001b[0m\u001b[0;34m\u001b[0m\u001b[0;34m\u001b[0m\u001b[0m\n\u001b[1;32m      4\u001b[0m \u001b[0;34m\u001b[0m\u001b[0m\n\u001b[0;32m----> 5\u001b[0;31m \u001b[0mbutton1\u001b[0m \u001b[0;34m=\u001b[0m \u001b[0mButton\u001b[0m\u001b[0;34m(\u001b[0m\u001b[0mroot\u001b[0m\u001b[0;34m,\u001b[0m \u001b[0mtext\u001b[0m\u001b[0;34m=\u001b[0m\u001b[0;34m'혼공1'\u001b[0m\u001b[0;34m)\u001b[0m\u001b[0;34m\u001b[0m\u001b[0;34m\u001b[0m\u001b[0m\n\u001b[0m\u001b[1;32m      6\u001b[0m \u001b[0mbutton2\u001b[0m \u001b[0;34m=\u001b[0m \u001b[0mButton\u001b[0m\u001b[0;34m(\u001b[0m\u001b[0mroot\u001b[0m\u001b[0;34m,\u001b[0m \u001b[0mtext\u001b[0m\u001b[0;34m=\u001b[0m\u001b[0;34m'혼공2'\u001b[0m\u001b[0;34m)\u001b[0m\u001b[0;34m\u001b[0m\u001b[0;34m\u001b[0m\u001b[0m\n\u001b[1;32m      7\u001b[0m \u001b[0mbutton3\u001b[0m \u001b[0;34m=\u001b[0m \u001b[0mButton\u001b[0m\u001b[0;34m(\u001b[0m\u001b[0mroot\u001b[0m\u001b[0;34m,\u001b[0m \u001b[0mtext\u001b[0m\u001b[0;34m=\u001b[0m\u001b[0;34m'혼공3'\u001b[0m\u001b[0;34m)\u001b[0m\u001b[0;34m\u001b[0m\u001b[0;34m\u001b[0m\u001b[0m\n",
      "\u001b[0;32m/opt/anaconda3/lib/python3.9/tkinter/__init__.py\u001b[0m in \u001b[0;36m__init__\u001b[0;34m(self, master, cnf, **kw)\u001b[0m\n\u001b[1;32m   2648\u001b[0m             \u001b[0moverrelief\u001b[0m\u001b[0;34m,\u001b[0m \u001b[0mstate\u001b[0m\u001b[0;34m,\u001b[0m \u001b[0mwidth\u001b[0m\u001b[0;34m\u001b[0m\u001b[0;34m\u001b[0m\u001b[0m\n\u001b[1;32m   2649\u001b[0m         \"\"\"\n\u001b[0;32m-> 2650\u001b[0;31m         \u001b[0mWidget\u001b[0m\u001b[0;34m.\u001b[0m\u001b[0m__init__\u001b[0m\u001b[0;34m(\u001b[0m\u001b[0mself\u001b[0m\u001b[0;34m,\u001b[0m \u001b[0mmaster\u001b[0m\u001b[0;34m,\u001b[0m \u001b[0;34m'button'\u001b[0m\u001b[0;34m,\u001b[0m \u001b[0mcnf\u001b[0m\u001b[0;34m,\u001b[0m \u001b[0mkw\u001b[0m\u001b[0;34m)\u001b[0m\u001b[0;34m\u001b[0m\u001b[0;34m\u001b[0m\u001b[0m\n\u001b[0m\u001b[1;32m   2651\u001b[0m \u001b[0;34m\u001b[0m\u001b[0m\n\u001b[1;32m   2652\u001b[0m     \u001b[0;32mdef\u001b[0m \u001b[0mflash\u001b[0m\u001b[0;34m(\u001b[0m\u001b[0mself\u001b[0m\u001b[0;34m)\u001b[0m\u001b[0;34m:\u001b[0m\u001b[0;34m\u001b[0m\u001b[0;34m\u001b[0m\u001b[0m\n",
      "\u001b[0;32m/opt/anaconda3/lib/python3.9/tkinter/__init__.py\u001b[0m in \u001b[0;36m__init__\u001b[0;34m(self, master, widgetName, cnf, kw, extra)\u001b[0m\n\u001b[1;32m   2570\u001b[0m         \u001b[0;32mfor\u001b[0m \u001b[0mk\u001b[0m\u001b[0;34m,\u001b[0m \u001b[0mv\u001b[0m \u001b[0;32min\u001b[0m \u001b[0mclasses\u001b[0m\u001b[0;34m:\u001b[0m\u001b[0;34m\u001b[0m\u001b[0;34m\u001b[0m\u001b[0m\n\u001b[1;32m   2571\u001b[0m             \u001b[0;32mdel\u001b[0m \u001b[0mcnf\u001b[0m\u001b[0;34m[\u001b[0m\u001b[0mk\u001b[0m\u001b[0;34m]\u001b[0m\u001b[0;34m\u001b[0m\u001b[0;34m\u001b[0m\u001b[0m\n\u001b[0;32m-> 2572\u001b[0;31m         self.tk.call(\n\u001b[0m\u001b[1;32m   2573\u001b[0m             (widgetName, self._w) + extra + self._options(cnf))\n\u001b[1;32m   2574\u001b[0m         \u001b[0;32mfor\u001b[0m \u001b[0mk\u001b[0m\u001b[0;34m,\u001b[0m \u001b[0mv\u001b[0m \u001b[0;32min\u001b[0m \u001b[0mclasses\u001b[0m\u001b[0;34m:\u001b[0m\u001b[0;34m\u001b[0m\u001b[0;34m\u001b[0m\u001b[0m\n",
      "\u001b[0;31mTclError\u001b[0m: can't invoke \"button\" command: application has been destroyed"
     ]
    }
   ],
   "source": [
    "from tkinter import *\n",
    "\n",
    "rook = Tk()\n",
    "\n",
    "button1 = Button(root, text='혼공1')\n",
    "button2 = Button(root, text='혼공2')\n",
    "button3 = Button(root, text='혼공3')\n",
    "\n",
    "button1.pack(side=Top, fill=X, padx=10, pady=10)\n",
    "button2.pack(side=Top, fill=X, padx=10, pady=10)\n",
    "button3.pack(side=Top, fill=X, padx=10, pady=10)\n",
    "\n",
    "root.mainloop()"
   ]
  },
  {
   "cell_type": "code",
   "execution_count": 10,
   "id": "ee59f75e",
   "metadata": {},
   "outputs": [],
   "source": [
    "from tkinter import *\n",
    "\n",
    "root = Tk()\n",
    "root.geometry('200x250')\n",
    "\n",
    "upFrame = Frame(root)\n",
    "upFrame.pack()\n",
    "downFrame = Frame(root)\n",
    "downFrame.pack()\n",
    "\n",
    "editBox = Entry(upFrame, width = 10)\n",
    "editBox.pack(padx=20, pady=20)\n",
    "\n",
    "listbox = Listbox(downFrame, bg='yellow')\n",
    "listbox.pack()\n",
    "\n",
    "listbox.insert(END, '하나')\n",
    "listbox.insert(END, '둘')\n",
    "listbox.insert(END, '셋')\n",
    "\n",
    "root.mainloop()"
   ]
  },
  {
   "cell_type": "code",
   "execution_count": null,
   "id": "0c154a44",
   "metadata": {},
   "outputs": [
    {
     "name": "stderr",
     "output_type": "stream",
     "text": [
      "2023-03-14 14:51:49.349 python[1933:93399] TSM AdjustCapsLockLEDForKeyTransitionHandling - _ISSetPhysicalKeyboardCapsLockLED Inhibit\n"
     ]
    }
   ],
   "source": [
    "import pymysql\n",
    "from tkinter import *\n",
    "from tkinter import messagebox\n",
    "\n",
    "## 메인 코드부\n",
    "def insertData() :\n",
    "    con, cur = None, None\n",
    "    data1, data2, data3, data4 = '','','',''\n",
    "    sql = ''\n",
    "    \n",
    "    conn = pymysql.connect(host='127.0.0.1', user='root', password='00000000',\n",
    "                          db='soloDB', charset='utf8')\n",
    "    cur = conn.cursor()\n",
    "    \n",
    "    data1 = edt1.get(); data2 = edt2.get()\n",
    "    data3 = edt3.get(); data4 = edt4.get()\n",
    "    sql = \"insert into userTable values ('\" + data1 + \"', '\" + data2 + \"', '\" + data3 + \"', \" + data4 + \")\"\n",
    "    \n",
    "    cur.execute(sql)\n",
    "    \n",
    "    conn.comit()\n",
    "    conn.close()\n",
    "    \n",
    "    messagebox.showinfo('성공','데이터 입력 성공')\n",
    "    \n",
    "def selectData() :\n",
    "    strData1, strData2, strData3, strData4 = [], [], [], []\n",
    "    \n",
    "    conn = pymysql.connect(host='127.0.0.1', user='host', password='00000000', db='soloDB', charset='utf8')\n",
    "    \n",
    "    cur = conn.cursor()\n",
    "    cur.execute('select * from userTable')\n",
    "    \n",
    "    strData1.append('사용자 ID'); strData2.append('사용자 이름')\n",
    "    strData3.append('사용자 이메일'); strData4.append('사용자 출생연도')\n",
    "    strData1.append(\"----------\"); strData2.append(\"-----------\")\n",
    "    strData3.append(\"----------\"); strData4.append(\"-----------\")\n",
    "    \n",
    "    while (True):\n",
    "        row = cur.fetchone()\n",
    "        if row == None:\n",
    "            break;\n",
    "        strData1.append(row[0]); strData2.append(row[1])\n",
    "        strData3.append(row[2]); strData4.append(row[3])\n",
    "        \n",
    "        \n",
    "    listData1.delete(0, listData1.size() - 1)\n",
    "    listData2.delete(0, listData2.size() - 1)\n",
    "    listData3.delete(0, listData3.size() - 1)\n",
    "    listData4.delete(0, listData4.size() - 1)\n",
    "    \n",
    "    for item1, item2, item3, item4 in zip(strData1, strData2, strData3, strData4):\n",
    "        listData1.insert(END, item1); listData2.insert(END, item2)\n",
    "        listData3.insert(END, item3); listData4.insert(END, item4)\n",
    "        \n",
    "        \n",
    "    conn.close()\n",
    "    \n",
    "    \n",
    "## 메인 코드부\n",
    "root = Tk()\n",
    "root.geometry('600x300')\n",
    "root.title('완전한 GUI 응용 프로그램')\n",
    "\n",
    "edtFrame = Frame(root)\n",
    "edtFrame.pack()\n",
    "listFrame = Frame(root)\n",
    "listFrame.pack(side=BOTTOM, fill=BOTH, expand=1)\n",
    "\n",
    "edt1= Entry(edtFrame, width=10); edt1.pack(side=LEFT, padx=10, pady=10)\n",
    "edt2= Entry(edtFrame, width=10); edt2.pack(side=LEFT, padx=10, pady=10)\n",
    "edt3= Entry(edtFrame, width=10); edt3.pack(side=LEFT, padx=10, pady=10)\n",
    "edt4= Entry(edtFrame, width=10); edt4.pack(side=LEFT, padx=10, pady=10)\n",
    "\n",
    "btnInsert = Button(edtFrame, text='입력', command = insertData)\n",
    "btnInsert.pack(side=LEFT, padx=10, pady=10)\n",
    "btnSelect = Button(edtFrame, text='조회', command=selectData)\n",
    "btnSelect.pack(side=LEFT, padx=10, pady=10)\n",
    "\n",
    "listData1 = Listbox(listFrame, bg='yellow')\n",
    "listData1.pack(side=LEFT, fill=BOTH, expand=1)\n",
    "listData2 = Listbox(listFrame, bg='yellow')\n",
    "listData2.pack(side=LEFT, fill=BOTH, expand=1)\n",
    "listData3 = Listbox(listFrame, bg='yellow')\n",
    "listData3.pack(side=LEFT, fill=BOTH, expand=1)\n",
    "listData4 = Listbox(listFrame, bg='yellow')\n",
    "listData4.pack(side=LEFT, fill=BOTH, expand=1)\n",
    "\n",
    "root.mainloop()"
   ]
  },
  {
   "cell_type": "code",
   "execution_count": null,
   "id": "21506100",
   "metadata": {},
   "outputs": [],
   "source": []
  }
 ],
 "metadata": {
  "kernelspec": {
   "display_name": "Python 3 (ipykernel)",
   "language": "python",
   "name": "python3"
  },
  "language_info": {
   "codemirror_mode": {
    "name": "ipython",
    "version": 3
   },
   "file_extension": ".py",
   "mimetype": "text/x-python",
   "name": "python",
   "nbconvert_exporter": "python",
   "pygments_lexer": "ipython3",
   "version": "3.9.13"
  }
 },
 "nbformat": 4,
 "nbformat_minor": 5
}
